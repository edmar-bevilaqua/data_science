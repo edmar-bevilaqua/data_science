{
  "cells": [
    {
      "cell_type": "markdown",
      "metadata": {
        "id": "-Njbe8eLcla7"
      },
      "source": [
        "Imports e definição do dataset.\n"
      ]
    },
    {
      "cell_type": "code",
      "execution_count": 6,
      "metadata": {
        "colab": {
          "base_uri": "https://localhost:8080/"
        },
        "id": "9rvXQGAA0ssC",
        "outputId": "c7bde7f3-9ce8-44c3-9724-d4cd028554a6"
      },
      "outputs": [
        {
          "name": "stdout",
          "output_type": "stream",
          "text": [
            "2.18.0\n"
          ]
        }
      ],
      "source": [
        "import tensorflow as tf\n",
        "import matplotlib.pyplot as plt\n",
        "from tensorflow.keras.utils import to_categorical\n",
        "from tensorflow.keras.models import Sequential\n",
        "from tensorflow.keras.layers import (\n",
        "    Conv2D,\n",
        "    MaxPooling2D,\n",
        "    Dropout,\n",
        "    Flatten,\n",
        "    Dense,\n",
        "    BatchNormalization,\n",
        "    Input,\n",
        ")\n",
        "from tensorflow.keras.optimizers import Adam\n",
        "from tensorflow.keras.callbacks import ReduceLROnPlateau\n",
        "\n",
        "mnist = tf.keras.datasets.mnist\n",
        "\n",
        "print(tf.__version__)\n"
      ]
    },
    {
      "cell_type": "markdown",
      "metadata": {
        "id": "3m6C8gisAJqb"
      },
      "source": [
        "O exemplo abaixo mostra as 10 primeiras imagens de treino e teste do MNIST:"
      ]
    },
    {
      "cell_type": "code",
      "execution_count": 7,
      "metadata": {
        "colab": {
          "base_uri": "https://localhost:8080/",
          "height": 275
        },
        "id": "JSXB_3_iAMMc",
        "outputId": "2809ba03-9b15-4bfa-edd0-7127b0eae258"
      },
      "outputs": [
        {
          "data": {
            "image/png": "[encoded data removed]",
            "text/plain": [
              "<Figure size 2000x400 with 20 Axes>"
            ]
          },
          "metadata": {},
          "output_type": "display_data"
        }
      ],
      "source": [
        "# mostrar as 10 primeiras imagens de treino e teste\n",
        "(x_train, y_train),(x_test, y_test) = mnist.load_data()\n",
        "n = 10\n",
        "plt.figure(figsize=(20, 4))\n",
        "for i in range(n):\n",
        "  # treino\n",
        "  ax = plt.subplot(2, n, i + 1)\n",
        "  plt.imshow(x_train[i])\n",
        "  plt.title(f\"treino, y={y_train[i]}\")\n",
        "  plt.gray()\n",
        "  ax.get_xaxis().set_visible(False)\n",
        "  ax.get_yaxis().set_visible(False)\n",
        "\n",
        "  # teste\n",
        "  ax = plt.subplot(2, n, i + 1 + n)\n",
        "  plt.imshow(x_test[i])\n",
        "  plt.title(f\"teste, y={y_test[i]}\")\n",
        "  plt.gray()\n",
        "  ax.get_xaxis().set_visible(False)\n",
        "  ax.get_yaxis().set_visible(False)\n",
        "plt.show()"
      ]
    },
    {
      "cell_type": "markdown",
      "metadata": {
        "id": "y_sxNMHZcx2U"
      },
      "source": [
        "A celula abaixo tem a definição de uma rede neural para ser usada no dataset MNIST. Você pode modifica-la como quiser (e.g. adicionar convoluções e/ou mais camadas ocultas) para melhorar o desempenho. Somente não pode modificar o número de neuronios de saida e a métrica de acurácia.\n",
        "\n"
      ]
    },
    {
      "cell_type": "code",
      "execution_count": 8,
      "metadata": {
        "id": "nUBXUukOcKLI"
      },
      "outputs": [],
      "source": [
        "def get_mnist_network():\n",
        "    network = tf.keras.models.Sequential()\n",
        "\n",
        "    network.add(Flatten(input_shape=(28,28)))    # 1 camada de entrada (achatando a entrada pra imagem 28x28 virar um vetor)\n",
        "    network.add(Dense(10, activation=tf.nn.softmax)) # 1 camada de saida com 10 neuronios (1 por classe)\n",
        "\n",
        "    network.compile(\n",
        "        optimizer='sgd',                        # otimizador SGD\n",
        "        loss='sparse_categorical_crossentropy', # entropia cruzada adaptada para multiplas classes\n",
        "        metrics=['accuracy']                    # métrica final de desempenho (nao modifique!)\n",
        "    )\n",
        "\n",
        "    return network"
      ]
    },
    {
      "cell_type": "markdown",
      "metadata": {
        "id": "NaQ2p_TeN1RE"
      },
      "source": [
        "A celula abaixo tem um exemplo de execucao da rede neural do MNIST naquele dataset. Modifique para executar por 10 épocas e adicione código para medir o tempo gasto.\n"
      ]
    },
    {
      "cell_type": "code",
      "execution_count": 9,
      "metadata": {
        "colab": {
          "base_uri": "https://localhost:8080/"
        },
        "id": "I-Z3JZaiNu1h",
        "outputId": "2a65c529-a30d-4f18-e3f5-91d012d216cb"
      },
      "outputs": [
        {
          "name": "stderr",
          "output_type": "stream",
          "text": [
            "/usr/local/lib/python3.11/dist-packages/keras/src/layers/reshaping/flatten.py:37: UserWarning: Do not pass an `input_shape`/`input_dim` argument to a layer. When using Sequential models, prefer using an `Input(shape)` object as the first layer in the model instead.\n",
            "  super().__init__(**kwargs)\n"
          ]
        },
        {
          "name": "stdout",
          "output_type": "stream",
          "text": [
            "Epoch 1/10\n",
            "\u001b[1m118/118\u001b[0m \u001b[32m━━━━━━━━━━━━━━━━━━━━\u001b[0m\u001b[37m\u001b[0m \u001b[1m1s\u001b[0m 4ms/step - accuracy: 0.6760 - loss: 800.0097\n",
            "Epoch 2/10\n",
            "\u001b[1m118/118\u001b[0m \u001b[32m━━━━━━━━━━━━━━━━━━━━\u001b[0m\u001b[37m\u001b[0m \u001b[1m1s\u001b[0m 4ms/step - accuracy: 0.8461 - loss: 137.2368\n",
            "Epoch 3/10\n",
            "\u001b[1m118/118\u001b[0m \u001b[32m━━━━━━━━━━━━━━━━━━━━\u001b[0m\u001b[37m\u001b[0m \u001b[1m1s\u001b[0m 4ms/step - accuracy: 0.8572 - loss: 135.3280\n",
            "Epoch 4/10\n",
            "\u001b[1m118/118\u001b[0m \u001b[32m━━━━━━━━━━━━━━━━━━━━\u001b[0m\u001b[37m\u001b[0m \u001b[1m1s\u001b[0m 4ms/step - accuracy: 0.8613 - loss: 116.5559\n",
            "Epoch 5/10\n",
            "\u001b[1m118/118\u001b[0m \u001b[32m━━━━━━━━━━━━━━━━━━━━\u001b[0m\u001b[37m\u001b[0m \u001b[1m1s\u001b[0m 4ms/step - accuracy: 0.8720 - loss: 105.1032\n",
            "Epoch 6/10\n",
            "\u001b[1m118/118\u001b[0m \u001b[32m━━━━━━━━━━━━━━━━━━━━\u001b[0m\u001b[37m\u001b[0m \u001b[1m1s\u001b[0m 7ms/step - accuracy: 0.8587 - loss: 121.3826\n",
            "Epoch 7/10\n",
            "\u001b[1m118/118\u001b[0m \u001b[32m━━━━━━━━━━━━━━━━━━━━\u001b[0m\u001b[37m\u001b[0m \u001b[1m1s\u001b[0m 7ms/step - accuracy: 0.8612 - loss: 135.2253\n",
            "Epoch 8/10\n",
            "\u001b[1m118/118\u001b[0m \u001b[32m━━━━━━━━━━━━━━━━━━━━\u001b[0m\u001b[37m\u001b[0m \u001b[1m1s\u001b[0m 6ms/step - accuracy: 0.8870 - loss: 89.1552\n",
            "Epoch 9/10\n",
            "\u001b[1m118/118\u001b[0m \u001b[32m━━━━━━━━━━━━━━━━━━━━\u001b[0m\u001b[37m\u001b[0m \u001b[1m1s\u001b[0m 4ms/step - accuracy: 0.8508 - loss: 154.7707\n",
            "Epoch 10/10\n",
            "\u001b[1m118/118\u001b[0m \u001b[32m━━━━━━━━━━━━━━━━━━━━\u001b[0m\u001b[37m\u001b[0m \u001b[1m1s\u001b[0m 4ms/step - accuracy: 0.8737 - loss: 106.6828\n",
            "\u001b[1m313/313\u001b[0m \u001b[32m━━━━━━━━━━━━━━━━━━━━\u001b[0m\u001b[37m\u001b[0m \u001b[1m1s\u001b[0m 2ms/step - accuracy: 0.7823 - loss: 152.6513\n",
            "Tempo gasto: 8.55 segundos\n"
          ]
        }
      ],
      "source": [
        "import time\n",
        "\n",
        "network = get_mnist_network()                                            # obtem a rede\n",
        "(x_train, y_train),(x_test, y_test) = mnist.load_data()                  # carrega o dataset\n",
        "init = time.time()\n",
        "network.fit(x_train, y_train, epochs=10, batch_size=512)                 # treina a rede\n",
        "end = time.time()\n",
        "loss, accuracy = network.evaluate(x_test, y_test)                        # avalia a rede\n",
        "\n",
        "print(f\"Tempo gasto: {end-init:.2f} segundos\")"
      ]
    },
    {
      "cell_type": "markdown",
      "metadata": {
        "id": "eXQklvZQWZCw"
      },
      "source": [
        "## Tarefa\n",
        "\n",
        "Escreva código para executar redes neurais nos seguintes datasets:\n",
        "- MNIST (pode aproveitar o codigo existente)\n",
        "- Fashion MNIST\n",
        "- CIFAR-10\n",
        "- CIFAR-100\n",
        "\n",
        "Cada execução deve ser por 10 épocas.\n",
        "\n",
        "Você deve preencher as funções a seguir para retornarem a rede neural com a melhor configuração que você conseguiu para cada dataset (a do MNIST deve ser feita na `get_mnist_network()` acima).\n",
        "\n",
        "IMPORTANTE: as funções `get_X_network()` não devem TREINAR nem AVALIAR  a rede neural, apenas instancia-la para o problema X (MNIST, Fashion MNIST, etc) e retorna-las.\n",
        "\n",
        "Ao final, preencha o dict `results` com o desempenho encontrado em cada execução."
      ]
    },
    {
      "cell_type": "code",
      "execution_count": 10,
      "metadata": {
        "id": "DAdzuLJ-HcA8"
      },
      "outputs": [],
      "source": [
        "# classe auxiliar para facilitar a medição do tempo gasto.\n",
        "\n",
        "class TimeHistory(tf.keras.callbacks.Callback):\n",
        "    def __init__(self):\n",
        "        self.epoch = 0\n",
        "\n",
        "    def on_train_begin(self, logs={}):\n",
        "        self.times = {}\n",
        "\n",
        "    def on_epoch_begin(self, batch, logs={}):\n",
        "        self.epoch_time_start = time.time()\n",
        "        self.epoch += 1\n",
        "\n",
        "    def on_epoch_end(self, batch, logs={}):\n",
        "        self.times[self.epoch] = (time.time() - self.epoch_time_start)\n",
        "\n",
        "    def _total_time(self):\n",
        "        return sum(self.times.values())"
      ]
    },
    {
      "cell_type": "code",
      "execution_count": 37,
      "metadata": {
        "id": "lX2-RCMm5Yro"
      },
      "outputs": [],
      "source": [
        "def get_mnist_network():\n",
        "    network = tf.keras.models.Sequential()\n",
        "\n",
        "    network.add(Input(shape=(28, 28, 1)))\n",
        "    network.add(Conv2D(16, (3,3), activation='relu')) # 1 camada de convolução: 16 filtros 3x3\n",
        "    network.add(MaxPooling2D((2,2), strides=2)) # max pooling 2x2\n",
        "    network.add(Flatten()) # achatar p/ entrar em MLP\n",
        "    network.add(Dense(20, activation='relu')) # 1 camada oculta\n",
        "    network.add(Dense(10, activation='softmax')) # 1 camada de saida com 10 neuronios\n",
        "\n",
        "    network.compile('adam', loss='categorical_crossentropy', metrics=['accuracy'])\n",
        "\n",
        "    return network\n",
        "\n",
        "def get_fashion_mnist_network():\n",
        "    network = tf.keras.models.Sequential()\n",
        "\n",
        "    network.add(Input(shape=(28, 28, 1)))\n",
        "    network.add(Conv2D(32, (3,3), activation='relu', input_shape=(28, 28, 1)))\n",
        "    network.add(MaxPooling2D((2,2)))\n",
        "    network.add(Conv2D(64, (3,3), activation='relu'))\n",
        "    network.add(MaxPooling2D((2,2)))\n",
        "    network.add(Flatten())\n",
        "    network.add(Dense(64, activation='relu'))\n",
        "    network.add(Dense(10, activation='softmax'))\n",
        "\n",
        "    network.compile('adam', loss='sparse_categorical_crossentropy', metrics=['accuracy'])\n",
        "\n",
        "    return network\n",
        "\n",
        "def get_cifar10_network():\n",
        "    network = Sequential()\n",
        "\n",
        "    network.add(Conv2D(64, (3, 3), padding='same', activation='relu', input_shape=(32, 32, 3)))\n",
        "    network.add(BatchNormalization())\n",
        "    network.add(Conv2D(64, (3, 3), activation='relu'))\n",
        "    network.add(BatchNormalization())\n",
        "    network.add(MaxPooling2D(pool_size=(2, 2)))\n",
        "    network.add(Dropout(0.25))\n",
        "\n",
        "    network.add(Conv2D(128, (3, 3), padding='same', activation='relu'))\n",
        "    network.add(BatchNormalization())\n",
        "    network.add(Conv2D(128, (3, 3), activation='relu'))\n",
        "    network.add(BatchNormalization())\n",
        "    network.add(MaxPooling2D(pool_size=(2, 2)))\n",
        "    network.add(Dropout(0.35))\n",
        "\n",
        "    network.add(Flatten())\n",
        "    network.add(Dense(512, activation='relu'))\n",
        "    network.add(Dropout(0.5))\n",
        "    network.add(Dense(10, activation='softmax'))\n",
        "    network.compile(\n",
        "        optimizer= Adam(learning_rate = 0.001),\n",
        "        loss='categorical_crossentropy',\n",
        "        metrics=['accuracy'])\n",
        "\n",
        "    return network\n",
        "\n",
        "def get_cifar100_network():\n",
        "    network = tf.keras.models.Sequential()\n",
        "\n",
        "    network.add(Input(shape=(32, 32, 3)))\n",
        "    network.add(Conv2D(16, (3,3), activation='relu')) # 1 camada de convolução: 16 filtros 3x3\n",
        "    network.add(MaxPooling2D((2,2), strides=2)) # max pooling 2x2\n",
        "    network.add(Flatten()) # achatar p/ entrar em MLP\n",
        "    network.add(Dense(60, activation='relu')) # 1 camada oculta\n",
        "    network.add(Dense(100, activation='softmax')) # 1 camada de saida com 100 neuronios\n",
        "\n",
        "    network.compile('adam', loss='categorical_crossentropy', metrics=['accuracy'])\n",
        "\n",
        "    return network"
      ]
    },
    {
      "cell_type": "code",
      "execution_count": 32,
      "metadata": {
        "id": "e_Vqurl0KMme"
      },
      "outputs": [],
      "source": [
        "def train_eval_mnist_pipeline(model, dataset, epochs):\n",
        "    # cria a instância da classe TimeHistory\n",
        "    time_callback = TimeHistory()\n",
        "\n",
        "    # faz o unpack do dataset\n",
        "    (x_train, y_train),(x_test, y_test) = dataset.load_data()\n",
        "\n",
        "    # treina o modelo\n",
        "    model.fit(x_train, y_train, epochs=epochs, batch_size=512, callbacks=[time_callback])\n",
        "\n",
        "    # avalia o modelo\n",
        "    loss, accuracy = model.evaluate(x_test, y_test)\n",
        "\n",
        "    return {\n",
        "        'loss': loss,\n",
        "        'accuracy' : accuracy,\n",
        "        'time_callbacks' : time_callback\n",
        "    }\n",
        "\n",
        "def train_eval_cifar_pipeline(model, dataset, epochs):\n",
        "    # cria a instância da classe TimeHistory\n",
        "    time_callback = TimeHistory()\n",
        "\n",
        "    # faz o unpack do dataset\n",
        "    (X_train, y_train),(X_test, y_test) = dataset.load_data()\n",
        "\n",
        "    # normaliza os dados\n",
        "    X_train = X_train.astype('float32') / 255.0\n",
        "    X_test = X_test.astype('float32') / 255.0\n",
        "\n",
        "    num_classes = len(set(y_train.reshape(-1)))\n",
        "\n",
        "    y_train = to_categorical(y_train, num_classes=num_classes)\n",
        "    y_test = to_categorical(y_test, num_classes=num_classes)\n",
        "\n",
        "    # reduz o LR quando a acurácia para de melhorar\n",
        "    lr_scheduler = ReduceLROnPlateau(monitor='val_accuracy',\n",
        "                                    factor=0.5, patience=2,\n",
        "                                    verbose=1, min_lr=1e-5)\n",
        "\n",
        "    # treina o modelo\n",
        "    model.fit(X_train,\n",
        "              y_train,\n",
        "              epochs=epochs,\n",
        "              batch_size=512,\n",
        "              callbacks=[time_callback, lr_scheduler])\n",
        "\n",
        "    # avalia o modelo\n",
        "    loss, accuracy = model.evaluate(X_test, y_test)\n",
        "\n",
        "    return {\n",
        "        'loss': loss,\n",
        "        'accuracy' : accuracy,\n",
        "        'time_callbacks' : time_callback\n",
        "    }"
      ]
    },
    {
      "cell_type": "markdown",
      "metadata": {
        "id": "BoNod3uQNu0P"
      },
      "source": [
        "## MNIST Clássico:\n",
        "---"
      ]
    },
    {
      "cell_type": "code",
      "execution_count": 13,
      "metadata": {
        "colab": {
          "base_uri": "https://localhost:8080/"
        },
        "id": "sRpDDVypNG18",
        "outputId": "1eee1974-b8d2-4dd1-8eb3-9d8d57a6ac83"
      },
      "outputs": [
        {
          "name": "stdout",
          "output_type": "stream",
          "text": [
            "Epoch 1/10\n",
            "\u001b[1m118/118\u001b[0m \u001b[32m━━━━━━━━━━━━━━━━━━━━\u001b[0m\u001b[37m\u001b[0m \u001b[1m17s\u001b[0m 133ms/step - accuracy: 0.2983 - loss: 5.5715\n",
            "Epoch 2/10\n",
            "\u001b[1m118/118\u001b[0m \u001b[32m━━━━━━━━━━━━━━━━━━━━\u001b[0m\u001b[37m\u001b[0m \u001b[1m14s\u001b[0m 117ms/step - accuracy: 0.6780 - loss: 0.9697\n",
            "Epoch 3/10\n",
            "\u001b[1m118/118\u001b[0m \u001b[32m━━━━━━━━━━━━━━━━━━━━\u001b[0m\u001b[37m\u001b[0m \u001b[1m21s\u001b[0m 121ms/step - accuracy: 0.8110 - loss: 0.5550\n",
            "Epoch 4/10\n",
            "\u001b[1m118/118\u001b[0m \u001b[32m━━━━━━━━━━━━━━━━━━━━\u001b[0m\u001b[37m\u001b[0m \u001b[1m14s\u001b[0m 120ms/step - accuracy: 0.9102 - loss: 0.3157\n",
            "Epoch 5/10\n",
            "\u001b[1m118/118\u001b[0m \u001b[32m━━━━━━━━━━━━━━━━━━━━\u001b[0m\u001b[37m\u001b[0m \u001b[1m21s\u001b[0m 128ms/step - accuracy: 0.9455 - loss: 0.2120\n",
            "Epoch 6/10\n",
            "\u001b[1m118/118\u001b[0m \u001b[32m━━━━━━━━━━━━━━━━━━━━\u001b[0m\u001b[37m\u001b[0m \u001b[1m20s\u001b[0m 121ms/step - accuracy: 0.9534 - loss: 0.1761\n",
            "Epoch 7/10\n",
            "\u001b[1m118/118\u001b[0m \u001b[32m━━━━━━━━━━━━━━━━━━━━\u001b[0m\u001b[37m\u001b[0m \u001b[1m20s\u001b[0m 117ms/step - accuracy: 0.9606 - loss: 0.1470\n",
            "Epoch 8/10\n",
            "\u001b[1m118/118\u001b[0m \u001b[32m━━━━━━━━━━━━━━━━━━━━\u001b[0m\u001b[37m\u001b[0m \u001b[1m14s\u001b[0m 121ms/step - accuracy: 0.9636 - loss: 0.1374\n",
            "Epoch 9/10\n",
            "\u001b[1m118/118\u001b[0m \u001b[32m━━━━━━━━━━━━━━━━━━━━\u001b[0m\u001b[37m\u001b[0m \u001b[1m21s\u001b[0m 129ms/step - accuracy: 0.9682 - loss: 0.1141\n",
            "Epoch 10/10\n",
            "\u001b[1m118/118\u001b[0m \u001b[32m━━━━━━━━━━━━━━━━━━━━\u001b[0m\u001b[37m\u001b[0m \u001b[1m20s\u001b[0m 127ms/step - accuracy: 0.9706 - loss: 0.1042\n",
            "\u001b[1m313/313\u001b[0m \u001b[32m━━━━━━━━━━━━━━━━━━━━\u001b[0m\u001b[37m\u001b[0m \u001b[1m2s\u001b[0m 5ms/step - accuracy: 0.9538 - loss: 0.1979\n"
          ]
        }
      ],
      "source": [
        "# dataset\n",
        "mnist_dataset = tf.keras.datasets.mnist\n",
        "\n",
        "# rede neural\n",
        "mnist_network = get_mnist_network()\n",
        "\n",
        "# pipeline de treino e avaliação\n",
        "classic_mnist_results = train_eval_mnist_pipeline(mnist_network, mnist, 10)"
      ]
    },
    {
      "cell_type": "markdown",
      "metadata": {
        "id": "d9oCE9lKOGqV"
      },
      "source": [
        "## Fashion MNIST:\n",
        "---"
      ]
    },
    {
      "cell_type": "code",
      "execution_count": 13,
      "metadata": {
        "colab": {
          "base_uri": "https://localhost:8080/"
        },
        "id": "gCA8zeewOIak",
        "outputId": "329a4d1d-86ca-4f27-af3c-29b111c6b2c2"
      },
      "outputs": [
        {
          "name": "stdout",
          "output_type": "stream",
          "text": [
            "Downloading data from https://storage.googleapis.com/tensorflow/tf-keras-datasets/train-labels-idx1-ubyte.gz\n",
            "\u001b[1m29515/29515\u001b[0m \u001b[32m━━━━━━━━━━━━━━━━━━━━\u001b[0m\u001b[37m\u001b[0m \u001b[1m0s\u001b[0m 0us/step\n",
            "Downloading data from https://storage.googleapis.com/tensorflow/tf-keras-datasets/train-images-idx3-ubyte.gz\n",
            "\u001b[1m       0/26421880\u001b[0m \u001b[37m━━━━━━━━━━━━━━━━━━━━\u001b[0m \u001b[1m0s\u001b[0m 0s/step"
          ]
        },
        {
          "name": "stderr",
          "output_type": "stream",
          "text": [
            "/usr/local/lib/python3.11/dist-packages/keras/src/layers/convolutional/base_conv.py:107: UserWarning: Do not pass an `input_shape`/`input_dim` argument to a layer. When using Sequential models, prefer using an `Input(shape)` object as the first layer in the model instead.\n",
            "  super().__init__(activity_regularizer=activity_regularizer, **kwargs)\n"
          ]
        },
        {
          "name": "stdout",
          "output_type": "stream",
          "text": [
            "\u001b[1m26421880/26421880\u001b[0m \u001b[32m━━━━━━━━━━━━━━━━━━━━\u001b[0m\u001b[37m\u001b[0m \u001b[1m0s\u001b[0m 0us/step\n",
            "Downloading data from https://storage.googleapis.com/tensorflow/tf-keras-datasets/t10k-labels-idx1-ubyte.gz\n",
            "\u001b[1m5148/5148\u001b[0m \u001b[32m━━━━━━━━━━━━━━━━━━━━\u001b[0m\u001b[37m\u001b[0m \u001b[1m0s\u001b[0m 0us/step\n",
            "Downloading data from https://storage.googleapis.com/tensorflow/tf-keras-datasets/t10k-images-idx3-ubyte.gz\n",
            "\u001b[1m4422102/4422102\u001b[0m \u001b[32m━━━━━━━━━━━━━━━━━━━━\u001b[0m\u001b[37m\u001b[0m \u001b[1m0s\u001b[0m 0us/step\n",
            "Epoch 1/10\n",
            "\u001b[1m118/118\u001b[0m \u001b[32m━━━━━━━━━━━━━━━━━━━━\u001b[0m\u001b[37m\u001b[0m \u001b[1m49s\u001b[0m 395ms/step - accuracy: 0.5521 - loss: 5.7476\n",
            "Epoch 2/10\n",
            "\u001b[1m118/118\u001b[0m \u001b[32m━━━━━━━━━━━━━━━━━━━━\u001b[0m\u001b[37m\u001b[0m \u001b[1m46s\u001b[0m 390ms/step - accuracy: 0.8332 - loss: 0.4660\n",
            "Epoch 3/10\n",
            "\u001b[1m118/118\u001b[0m \u001b[32m━━━━━━━━━━━━━━━━━━━━\u001b[0m\u001b[37m\u001b[0m \u001b[1m83s\u001b[0m 401ms/step - accuracy: 0.8565 - loss: 0.3987\n",
            "Epoch 4/10\n",
            "\u001b[1m118/118\u001b[0m \u001b[32m━━━━━━━━━━━━━━━━━━━━\u001b[0m\u001b[37m\u001b[0m \u001b[1m86s\u001b[0m 438ms/step - accuracy: 0.8717 - loss: 0.3515\n",
            "Epoch 5/10\n",
            "\u001b[1m118/118\u001b[0m \u001b[32m━━━━━━━━━━━━━━━━━━━━\u001b[0m\u001b[37m\u001b[0m \u001b[1m80s\u001b[0m 425ms/step - accuracy: 0.8818 - loss: 0.3267\n",
            "Epoch 6/10\n",
            "\u001b[1m118/118\u001b[0m \u001b[32m━━━━━━━━━━━━━━━━━━━━\u001b[0m\u001b[37m\u001b[0m \u001b[1m85s\u001b[0m 455ms/step - accuracy: 0.8858 - loss: 0.3057\n",
            "Epoch 7/10\n",
            "\u001b[1m118/118\u001b[0m \u001b[32m━━━━━━━━━━━━━━━━━━━━\u001b[0m\u001b[37m\u001b[0m \u001b[1m49s\u001b[0m 414ms/step - accuracy: 0.8971 - loss: 0.2823\n",
            "Epoch 8/10\n",
            "\u001b[1m118/118\u001b[0m \u001b[32m━━━━━━━━━━━━━━━━━━━━\u001b[0m\u001b[37m\u001b[0m \u001b[1m47s\u001b[0m 399ms/step - accuracy: 0.9024 - loss: 0.2642\n",
            "Epoch 9/10\n",
            "\u001b[1m118/118\u001b[0m \u001b[32m━━━━━━━━━━━━━━━━━━━━\u001b[0m\u001b[37m\u001b[0m \u001b[1m50s\u001b[0m 428ms/step - accuracy: 0.9039 - loss: 0.2557\n",
            "Epoch 10/10\n",
            "\u001b[1m118/118\u001b[0m \u001b[32m━━━━━━━━━━━━━━━━━━━━\u001b[0m\u001b[37m\u001b[0m \u001b[1m83s\u001b[0m 439ms/step - accuracy: 0.9124 - loss: 0.2394\n",
            "\u001b[1m313/313\u001b[0m \u001b[32m━━━━━━━━━━━━━━━━━━━━\u001b[0m\u001b[37m\u001b[0m \u001b[1m3s\u001b[0m 9ms/step - accuracy: 0.8745 - loss: 0.3568\n"
          ]
        }
      ],
      "source": [
        "# dataset\n",
        "fashion_mnist_dataset = tf.keras.datasets.fashion_mnist\n",
        "\n",
        "# rede neural\n",
        "fashion_mnist_network = get_fashion_mnist_network()\n",
        "\n",
        "# pipeline de treino e avaliação\n",
        "fashion_results = train_eval_mnist_pipeline(fashion_mnist_network, fashion_mnist_dataset, epochs=10)"
      ]
    },
    {
      "cell_type": "markdown",
      "metadata": {
        "id": "pyZYw_2PRAi1"
      },
      "source": [
        "## CIFAR-10\n",
        "---"
      ]
    },
    {
      "cell_type": "code",
      "execution_count": null,
      "metadata": {
        "colab": {
          "background_save": true,
          "base_uri": "https://localhost:8080/"
        },
        "id": "hzYmONoRRG6M",
        "outputId": "4226e15f-affc-4f2e-cb91-28c8dc1a5302"
      },
      "outputs": [
        {
          "name": "stderr",
          "output_type": "stream",
          "text": [
            "/usr/local/lib/python3.11/dist-packages/keras/src/layers/convolutional/base_conv.py:107: UserWarning: Do not pass an `input_shape`/`input_dim` argument to a layer. When using Sequential models, prefer using an `Input(shape)` object as the first layer in the model instead.\n",
            "  super().__init__(activity_regularizer=activity_regularizer, **kwargs)\n"
          ]
        },
        {
          "name": "stdout",
          "output_type": "stream",
          "text": [
            "Epoch 1/10\n",
            "\u001b[1m98/98\u001b[0m \u001b[32m━━━━━━━━━━━━━━━━━━━━\u001b[0m\u001b[37m\u001b[0m \u001b[1m783s\u001b[0m 8s/step - accuracy: 0.3084 - loss: 2.6752 - learning_rate: 0.0010\n",
            "Epoch 2/10\n"
          ]
        },
        {
          "name": "stderr",
          "output_type": "stream",
          "text": [
            "/usr/local/lib/python3.11/dist-packages/keras/src/callbacks/callback_list.py:145: UserWarning: Learning rate reduction is conditioned on metric `val_accuracy` which is not available. Available metrics are: accuracy,loss,learning_rate.\n",
            "  callback.on_epoch_end(epoch, logs)\n"
          ]
        },
        {
          "name": "stdout",
          "output_type": "stream",
          "text": [
            "\u001b[1m98/98\u001b[0m \u001b[32m━━━━━━━━━━━━━━━━━━━━\u001b[0m\u001b[37m\u001b[0m \u001b[1m811s\u001b[0m 8s/step - accuracy: 0.5153 - loss: 1.3485 - learning_rate: 0.0010\n",
            "Epoch 3/10\n",
            "\u001b[1m98/98\u001b[0m \u001b[32m━━━━━━━━━━━━━━━━━━━━\u001b[0m\u001b[37m\u001b[0m \u001b[1m793s\u001b[0m 8s/step - accuracy: 0.5999 - loss: 1.1210 - learning_rate: 0.0010\n",
            "Epoch 4/10\n",
            "\u001b[1m98/98\u001b[0m \u001b[32m━━━━━━━━━━━━━━━━━━━━\u001b[0m\u001b[37m\u001b[0m \u001b[1m800s\u001b[0m 8s/step - accuracy: 0.6676 - loss: 0.9377 - learning_rate: 0.0010\n",
            "Epoch 5/10\n",
            "\u001b[1m98/98\u001b[0m \u001b[32m━━━━━━━━━━━━━━━━━━━━\u001b[0m\u001b[37m\u001b[0m \u001b[1m822s\u001b[0m 8s/step - accuracy: 0.7082 - loss: 0.8248 - learning_rate: 0.0010\n",
            "Epoch 6/10\n",
            "\u001b[1m98/98\u001b[0m \u001b[32m━━━━━━━━━━━━━━━━━━━━\u001b[0m\u001b[37m\u001b[0m \u001b[1m812s\u001b[0m 8s/step - accuracy: 0.7375 - loss: 0.7407 - learning_rate: 0.0010\n",
            "Epoch 7/10\n",
            "\u001b[1m98/98\u001b[0m \u001b[32m━━━━━━━━━━━━━━━━━━━━\u001b[0m\u001b[37m\u001b[0m \u001b[1m864s\u001b[0m 8s/step - accuracy: 0.7584 - loss: 0.6849 - learning_rate: 0.0010\n",
            "Epoch 8/10\n",
            "\u001b[1m98/98\u001b[0m \u001b[32m━━━━━━━━━━━━━━━━━━━━\u001b[0m\u001b[37m\u001b[0m \u001b[1m846s\u001b[0m 8s/step - accuracy: 0.7800 - loss: 0.6270 - learning_rate: 0.0010\n",
            "Epoch 9/10\n",
            "\u001b[1m98/98\u001b[0m \u001b[32m━━━━━━━━━━━━━━━━━━━━\u001b[0m\u001b[37m\u001b[0m \u001b[1m806s\u001b[0m 8s/step - accuracy: 0.7940 - loss: 0.5807 - learning_rate: 0.0010\n",
            "Epoch 10/10\n",
            "\u001b[1m98/98\u001b[0m \u001b[32m━━━━━━━━━━━━━━━━━━━━\u001b[0m\u001b[37m\u001b[0m \u001b[1m786s\u001b[0m 8s/step - accuracy: 0.8121 - loss: 0.5315 - learning_rate: 0.0010\n",
            "\u001b[1m313/313\u001b[0m \u001b[32m━━━━━━━━━━━━━━━━━━━━\u001b[0m\u001b[37m\u001b[0m \u001b[1m41s\u001b[0m 131ms/step - accuracy: 0.7933 - loss: 0.6274\n"
          ]
        }
      ],
      "source": [
        "# dataset\n",
        "cifar_10_dataset = tf.keras.datasets.cifar10\n",
        "\n",
        "# rede neural\n",
        "cifar_10_network = get_cifar10_network()\n",
        "\n",
        "# pipeline de treino e avaliação\n",
        "dict_test = train_eval_cifar_pipeline(cifar_10_network, cifar_10_dataset, epochs=10)"
      ]
    },
    {
      "cell_type": "markdown",
      "metadata": {
        "id": "lRlshxzIRHMD"
      },
      "source": [
        "## CIFAR-100\n",
        "---"
      ]
    },
    {
      "cell_type": "code",
      "execution_count": 38,
      "metadata": {
        "colab": {
          "base_uri": "https://localhost:8080/"
        },
        "id": "zW3V3LN5RI1E",
        "outputId": "024d94b7-657c-4538-fb67-f6b6909fc414"
      },
      "outputs": [
        {
          "name": "stdout",
          "output_type": "stream",
          "text": [
            "Epoch 1/10\n",
            "\u001b[1m98/98\u001b[0m \u001b[32m━━━━━━━━━━━━━━━━━━━━\u001b[0m\u001b[37m\u001b[0m \u001b[1m22s\u001b[0m 207ms/step - accuracy: 0.0271 - loss: 4.5086 - learning_rate: 0.0010\n",
            "Epoch 2/10\n"
          ]
        },
        {
          "name": "stderr",
          "output_type": "stream",
          "text": [
            "/usr/local/lib/python3.11/dist-packages/keras/src/callbacks/callback_list.py:145: UserWarning: Learning rate reduction is conditioned on metric `val_accuracy` which is not available. Available metrics are: accuracy,loss,learning_rate.\n",
            "  callback.on_epoch_end(epoch, logs)\n"
          ]
        },
        {
          "name": "stdout",
          "output_type": "stream",
          "text": [
            "\u001b[1m98/98\u001b[0m \u001b[32m━━━━━━━━━━━━━━━━━━━━\u001b[0m\u001b[37m\u001b[0m \u001b[1m22s\u001b[0m 218ms/step - accuracy: 0.0944 - loss: 3.9904 - learning_rate: 0.0010\n",
            "Epoch 3/10\n",
            "\u001b[1m98/98\u001b[0m \u001b[32m━━━━━━━━━━━━━━━━━━━━\u001b[0m\u001b[37m\u001b[0m \u001b[1m39s\u001b[0m 204ms/step - accuracy: 0.1353 - loss: 3.7416 - learning_rate: 0.0010\n",
            "Epoch 4/10\n",
            "\u001b[1m98/98\u001b[0m \u001b[32m━━━━━━━━━━━━━━━━━━━━\u001b[0m\u001b[37m\u001b[0m \u001b[1m21s\u001b[0m 218ms/step - accuracy: 0.1592 - loss: 3.6064 - learning_rate: 0.0010\n",
            "Epoch 5/10\n",
            "\u001b[1m98/98\u001b[0m \u001b[32m━━━━━━━━━━━━━━━━━━━━\u001b[0m\u001b[37m\u001b[0m \u001b[1m22s\u001b[0m 228ms/step - accuracy: 0.1798 - loss: 3.4841 - learning_rate: 0.0010\n",
            "Epoch 6/10\n",
            "\u001b[1m98/98\u001b[0m \u001b[32m━━━━━━━━━━━━━━━━━━━━\u001b[0m\u001b[37m\u001b[0m \u001b[1m40s\u001b[0m 218ms/step - accuracy: 0.1947 - loss: 3.3896 - learning_rate: 0.0010\n",
            "Epoch 7/10\n",
            "\u001b[1m98/98\u001b[0m \u001b[32m━━━━━━━━━━━━━━━━━━━━\u001b[0m\u001b[37m\u001b[0m \u001b[1m41s\u001b[0m 217ms/step - accuracy: 0.2133 - loss: 3.2944 - learning_rate: 0.0010\n",
            "Epoch 8/10\n",
            "\u001b[1m98/98\u001b[0m \u001b[32m━━━━━━━━━━━━━━━━━━━━\u001b[0m\u001b[37m\u001b[0m \u001b[1m40s\u001b[0m 203ms/step - accuracy: 0.2223 - loss: 3.2323 - learning_rate: 0.0010\n",
            "Epoch 9/10\n",
            "\u001b[1m98/98\u001b[0m \u001b[32m━━━━━━━━━━━━━━━━━━━━\u001b[0m\u001b[37m\u001b[0m \u001b[1m23s\u001b[0m 231ms/step - accuracy: 0.2359 - loss: 3.1598 - learning_rate: 0.0010\n",
            "Epoch 10/10\n",
            "\u001b[1m98/98\u001b[0m \u001b[32m━━━━━━━━━━━━━━━━━━━━\u001b[0m\u001b[37m\u001b[0m \u001b[1m39s\u001b[0m 210ms/step - accuracy: 0.2450 - loss: 3.1158 - learning_rate: 0.0010\n",
            "\u001b[1m313/313\u001b[0m \u001b[32m━━━━━━━━━━━━━━━━━━━━\u001b[0m\u001b[37m\u001b[0m \u001b[1m2s\u001b[0m 7ms/step - accuracy: 0.2371 - loss: 3.1753\n"
          ]
        }
      ],
      "source": [
        "# dataset\n",
        "cifar_100_dataset = tf.keras.datasets.cifar100\n",
        "\n",
        "# rede neural\n",
        "cifar_100_network = get_cifar100_network()\n",
        "\n",
        "# pipeline de treino e avaliação\n",
        "cifar100_results = train_eval_cifar_pipeline(cifar_100_network, cifar_100_dataset, epochs=10)"
      ]
    },
    {
      "cell_type": "code",
      "execution_count": 39,
      "metadata": {
        "colab": {
          "base_uri": "https://localhost:8080/"
        },
        "id": "Gi7K43VRE3Jn",
        "outputId": "58ef784a-abb7-4f1f-bc21-1e9da08902d4"
      },
      "outputs": [
        {
          "data": {
            "text/plain": [
              "309.0502562522888"
            ]
          },
          "execution_count": 39,
          "metadata": {},
          "output_type": "execute_result"
        }
      ],
      "source": [
        "dict_test['time_callbacks']._total_time()"
      ]
    },
    {
      "cell_type": "markdown",
      "metadata": {
        "id": "ozwIAkarPXPo"
      },
      "source": [
        "Preencha o dict abaixo substituindo os None com a acuracia final (acc) e o tempo de treinamento (time) encontrado no seu experimento pra cada dataset"
      ]
    },
    {
      "cell_type": "code",
      "execution_count": 42,
      "metadata": {
        "colab": {
          "base_uri": "https://localhost:8080/"
        },
        "id": "0KaDBLRKGbkE",
        "outputId": "306b3cee-8192-4490-dd9c-3a7e27d85d02"
      },
      "outputs": [
        {
          "name": "stderr",
          "output_type": "stream",
          "text": [
            "/usr/local/lib/python3.11/dist-packages/keras/src/layers/reshaping/flatten.py:37: UserWarning: Do not pass an `input_shape`/`input_dim` argument to a layer. When using Sequential models, prefer using an `Input(shape)` object as the first layer in the model instead.\n",
            "  super().__init__(**kwargs)\n"
          ]
        },
        {
          "name": "stdout",
          "output_type": "stream",
          "text": [
            "Epoch 1/10\n",
            "1875/1875 - 4s - 2ms/step - accuracy: 0.8198 - loss: 0.7730 - val_accuracy: 0.8816 - val_loss: 0.4755\n",
            "Epoch 2/10\n",
            "1875/1875 - 5s - 3ms/step - accuracy: 0.8827 - loss: 0.4538 - val_accuracy: 0.8963 - val_loss: 0.3972\n",
            "Epoch 3/10\n",
            "1875/1875 - 4s - 2ms/step - accuracy: 0.8919 - loss: 0.4019 - val_accuracy: 0.9028 - val_loss: 0.3651\n",
            "Epoch 4/10\n",
            "1875/1875 - 5s - 3ms/step - accuracy: 0.8975 - loss: 0.3759 - val_accuracy: 0.9068 - val_loss: 0.3468\n",
            "Epoch 5/10\n",
            "1875/1875 - 5s - 3ms/step - accuracy: 0.9011 - loss: 0.3594 - val_accuracy: 0.9106 - val_loss: 0.3346\n",
            "Epoch 6/10\n",
            "1875/1875 - 5s - 3ms/step - accuracy: 0.9036 - loss: 0.3479 - val_accuracy: 0.9106 - val_loss: 0.3254\n",
            "Epoch 7/10\n",
            "1875/1875 - 6s - 3ms/step - accuracy: 0.9058 - loss: 0.3390 - val_accuracy: 0.9120 - val_loss: 0.3193\n",
            "Epoch 8/10\n",
            "1875/1875 - 4s - 2ms/step - accuracy: 0.9073 - loss: 0.3320 - val_accuracy: 0.9141 - val_loss: 0.3150\n",
            "Epoch 9/10\n",
            "1875/1875 - 4s - 2ms/step - accuracy: 0.9089 - loss: 0.3261 - val_accuracy: 0.9138 - val_loss: 0.3096\n",
            "Epoch 10/10\n",
            "1875/1875 - 5s - 3ms/step - accuracy: 0.9103 - loss: 0.3213 - val_accuracy: 0.9156 - val_loss: 0.3061\n",
            "\u001b[1m313/313\u001b[0m \u001b[32m━━━━━━━━━━━━━━━━━━━━\u001b[0m\u001b[37m\u001b[0m \u001b[1m1s\u001b[0m 2ms/step - accuracy: 0.9024 - loss: 0.3505\n",
            "\n",
            "Acurácia no teste: 0.9156\n"
          ]
        }
      ],
      "source": [
        "import tensorflow as tf\n",
        "from tensorflow.keras.datasets import mnist\n",
        "from tensorflow.keras.models import Sequential\n",
        "from tensorflow.keras.layers import Flatten, Dense\n",
        "from tensorflow.keras.utils import to_categorical\n",
        "\n",
        "# 1. Carregar o dataset MNIST\n",
        "(x_train, y_train), (x_test, y_test) = mnist.load_data()\n",
        "\n",
        "# 2. Pré-processamento\n",
        "x_train = x_train / 255.0  # Normaliza para [0,1]\n",
        "x_test = x_test / 255.0\n",
        "\n",
        "y_train = to_categorical(y_train, 10)  # One-hot encoding\n",
        "y_test = to_categorical(y_test, 10)\n",
        "\n",
        "# 3. Definir o modelo (Perceptron simples: sem camadas ocultas)\n",
        "model = Sequential([\n",
        "    Flatten(input_shape=(28, 28)),   # Transformar imagem 2D em vetor 1D\n",
        "    Dense(10, activation='softmax')  # Camada de saída com 10 classes\n",
        "])\n",
        "\n",
        "# 4. Compilar\n",
        "model.compile(optimizer='sgd',\n",
        "              loss='categorical_crossentropy',\n",
        "              metrics=['accuracy'])\n",
        "\n",
        "# 5. Treinar por no máximo 10 épocas\n",
        "history = model.fit(x_train, y_train, epochs=10, validation_data=(x_test, y_test), verbose=2)\n",
        "\n",
        "# 6. Avaliar\n",
        "test_loss, test_acc = model.evaluate(x_test, y_test)\n",
        "print(f\"\\nAcurácia no teste: {test_acc:.4f}\")\n"
      ]
    },
    {
      "cell_type": "code",
      "execution_count": null,
      "metadata": {
        "id": "SIPpN21qPWkW"
      },
      "outputs": [],
      "source": [
        "results = {\n",
        "    \"mnist\": {\"time\": 182, \"acc\": 0.9625},\n",
        "    \"fashion_mnist\": {\"time\": 659, \"acc\": 0.9584},\n",
        "    \"cifar10\": {\"time\": 8164, \"acc\": 0.7933},\n",
        "    \"cifar100\": {\"time\": 309, \"acc\": 0.2371},\n",
        "}"
      ]
    },
    {
      "cell_type": "markdown",
      "metadata": {
        "id": "Balt30GsFZGY"
      },
      "source": [
        "## Perguntas:\n",
        "---\n",
        "1) Em quais datasets um perceptron simples (sem convolução e sem camadas ocultas) obtem uma acurácia acima de 80%?\n",
        "* **R**: A partir de tentativa e erro, apenas no dataset do MNIST clássico um perceptron simples foi capaz de atingir acurácia acima de 80%.\n",
        "\n",
        "2) Qual a acurácia máxima obtida no CIFAR-10? Qual modificação teve maior impacto positivo? Qual o maior desafio/dificuldade?\n",
        "* **R**: Utilizando uma rede mais robusta, consegui atingir acurácia de 79.3% no conjunto de teste. A modificação que teve maior impacto foi a normalização dos dados para o intervalo entre 0 e 1. O maior desafio foi conseguir deixar a acurácia maior sem aumentar exponencialmente o tempo de treinamento em 10 épocas.\n",
        "\n",
        "3) Foi possivel obter mais de 60% de acurácia no CIFAR-100? Qual modificação teve maior impacto positivo? Qual o maior desafio/dificuldade?\n",
        "* **R**: Para minhas tentantivas, não. Imagino que, assim como no dataset do CIFAR-10, a normalização dos dados e a utilização de _Batch Normalization_ é crucial para se atingir acurácias superiores a 60%.\n",
        "\n",
        "4) Quais fatores (tanto das próprias redes quanto dos dados) levam as redes neurais a melhorarem o desempenho? E quais fatores tornam o desempenho pior?\n",
        "* **R**: Podemos citar como fatores que melhoram o desempenho das redes:\n",
        "    * Normalização dos dados: Estabilizam mais as redes e tendem a acelerar o treinamento;\n",
        "    * Normalização em lotes (_Batch Normalization_): Também ajudam a estabilizar os dados e a garantir que os gradientes não fiquem muito instáveis durante o treinamento;\n",
        "    * Funções de ativação bem escolhidas: Este é um ponto especial, pois a má escolha da função de ativação pode fazer com que o modelo leve muito mais tempo para ser treinado, além de não garantir uma maior acurácia;\n",
        "    * Taxa de aprendizado bem definida: Ajuda no modelo a convergir de forma mais acelarada e a não ficar preso em mínimos locais, a depender da solução escolhida.\n",
        "    * Quantidade de 'neurônios' por camada: Ajudam na capacidade do modelo de se ajustar a distribuições de dados mais complexas, como é o caso de imagens.\n",
        "    * Camadas Convolucionais: Ajudam na extração de padrões representativos dos dados.\n",
        "    * Autoencoders: Podem ajudar na redução de dimensionalidade e também na redução de ruídos.\n",
        "    * Quanto aos dados, estes também podem contribuir para melhorar o desempenho de um modelo, caso:\n",
        "        * Apresentem um balanceamento das classes, pois ajuda na representativadade de cada classe;\n",
        "        * Tenham poucos ruídos e outliers;\n",
        "        * Apresentem boa diversidade.\n",
        "* Falando agora dos fatores que podem prejudicar os modelos, podemos citar:\n",
        "    * Redes muito rasas: São incapazes de se ajustar a dados mais complexos;\n",
        "    * Taxa de aprendizado mal definida: Pode fazer o modelo demorar muito parar convergir ou então podemo fazer ele dar saltos muito grandes, impossibilitando a convergência.\n",
        "    * Redes extremamente profundas e mal ajustadas: Aprendem tão bem o conjunto de treino que modelam até os ruídos, tendendo a performar muito mal no conjunto de testes.\n",
        "    * Falta de normalizações: Podem deixar a rede muito instável e fazer com que demore demais para treinar.\n",
        "    * Quanto aos dados, estes também podem contribuir para piorar o desempenho de um modelo, caso:\n",
        "        * Apresentem um desbalanceamento das classes, gerando uma dominância da classe predominante e fazendo com que, se mal treinado, faça a rede tender a sempre escolher a classe dominante;\n",
        "        * Tenham muitos ruídos e outliers;\n",
        "        * Apresentem baixa diversidade."
      ]
    }
  ],
  "metadata": {
    "colab": {
      "provenance": []
    },
    "kernelspec": {
      "display_name": "Python 3",
      "name": "python3"
    }
  },
  "nbformat": 4,
  "nbformat_minor": 0
}
