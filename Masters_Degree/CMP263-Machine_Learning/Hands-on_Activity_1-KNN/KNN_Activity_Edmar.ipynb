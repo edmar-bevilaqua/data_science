{
  "cells": [
    {
      "cell_type": "markdown",
      "metadata": {
        "id": "iPrWE1CEJA9y"
      },
      "source": [
        "# **Programa de Pós-Graduação em Computação - INF/UFRGS**\n",
        "### Disciplina CMP263 - Aprendizagem de Máquina\n",
        "#### *Aluno: Edmar Junyor Bevilaqua*\n",
        "<br>"
      ]
    },
    {
      "cell_type": "markdown",
      "metadata": {
        "id": "B_9NIu9TJgPO"
      },
      "source": [
        "### Obtendo os dados do moodle (fiz uma cópia no meu Drive para evitar autenticação):\n",
        "---"
      ]
    },
    {
      "cell_type": "code",
      "execution_count": null,
      "metadata": {
        "id": "kdkXlXkBNRvY"
      },
      "outputs": [],
      "source": [
        "!wget --no-check-certificate 'https://drive.google.com/uc?export=download&id=1CKWPfJlja9Vzk5gTR-eIsTh39Yt7kYeo' -O AtividadePraticaKNN.zip"
      ]
    },
    {
      "cell_type": "code",
      "execution_count": null,
      "metadata": {
        "id": "UQD-fC_hOxAs"
      },
      "outputs": [],
      "source": [
        "# Descompactando o arquivo -> `-q` suprime textos desnecessários.\n",
        "!unzip -q AtividadePraticaKNN.zip\n",
        "\n",
        "# Removendo arquivos desnecessários.\n",
        "!rm -rf AtividadePraticaKNN.zip\n",
        "!rm -rf __MACOSX/"
      ]
    },
    {
      "cell_type": "markdown",
      "metadata": {
        "id": "HvuKUd8QO7rV"
      },
      "source": [
        "### Importando bibliotecas:\n",
        "---"
      ]
    },
    {
      "cell_type": "code",
      "execution_count": null,
      "metadata": {
        "id": "rvoZzv6uPEeh"
      },
      "outputs": [],
      "source": [
        "import pandas as pd\n",
        "import numpy as np\n",
        "import seaborn as sns\n",
        "import matplotlib.pyplot as plt\n",
        "from sklearn.model_selection import train_test_split\n",
        "from sklearn.neighbors import KNeighborsClassifier\n",
        "from sklearn.metrics import classification_report, confusion_matrix"
      ]
    },
    {
      "cell_type": "markdown",
      "metadata": {
        "id": "NICMG7G7QHan"
      },
      "source": [
        "### Lendo os arquivos `.txt`\n",
        "---"
      ]
    },
    {
      "cell_type": "code",
      "execution_count": null,
      "metadata": {
        "id": "cYbLXbCIPKmS"
      },
      "outputs": [],
      "source": [
        "# Dados Originas 2 Features\n",
        "orig_train_df_2f = pd.read_csv('/content/AtividadePraticaKNN/Dados_Originais_2Features/TrainingData_2F_Original.txt', sep = '\\t')\n",
        "orig_test_df_2f = pd.read_csv('/content/AtividadePraticaKNN/Dados_Originais_2Features/TestingData_2F_Original.txt', sep = '\\t')\n",
        "\n",
        "# Dados Originas 11 Features\n",
        "orig_train_df_11f = pd.read_csv('/content/AtividadePraticaKNN/Dados_Originais_11Features/TrainingData_11F_Original.txt', sep = '\\t')\n",
        "orig_test_df_11f = pd.read_csv('/content/AtividadePraticaKNN/Dados_Originais_11Features/TestingData_11F_Original.txt', sep = '\\t')\n",
        "\n",
        "# Dados Normalizados 2 Features\n",
        "norm_train_df_2f = pd.read_csv('/content/AtividadePraticaKNN/Dados_Normalizados_2Features/TrainingData_2F_Norm.txt', sep = '\\t')\n",
        "norm_test_df_2f = pd.read_csv('/content/AtividadePraticaKNN/Dados_Normalizados_2Features/TestingData_2F_Norm.txt', sep = '\\t')\n",
        "\n",
        "# Dados Normalizados 11 Features\n",
        "norm_train_df_11f = pd.read_csv('/content/AtividadePraticaKNN/Dados_Normalizados_11Features/TrainingData_11F_Norm.txt', sep = '\\t')\n",
        "norm_test_df_11f = pd.read_csv('/content/AtividadePraticaKNN/Dados_Normalizados_11Features/TestingData_11F_Norm.txt', sep = '\\t')"
      ]
    },
    {
      "cell_type": "markdown",
      "metadata": {
        "id": "hGQ3sS_Almj4"
      },
      "source": [
        "### Plot dos dados para entender distribuição:\n",
        "---\n",
        "Gerado com auxílio do Gemini (Google)"
      ]
    },
    {
      "cell_type": "code",
      "execution_count": null,
      "metadata": {
        "id": "AiM-G2Cdlq5R"
      },
      "outputs": [],
      "source": [
        "# prompt: Create a plot from norm_train_df_2f that show features 'total.sulfur.dioxide' and 'citric.acid' in axis, then color them based on 'class', then insert the data points from norm_test_df_2f and make them black dots, with their respective ID above\n",
        "\n",
        "import matplotlib.pyplot as plt\n",
        "plt.figure(figsize=(20, 11))\n",
        "sns.scatterplot(x='total.sulfur.dioxide', y='citric.acid', hue='class', data=norm_train_df_2f)\n",
        "plt.scatter(norm_test_df_2f['total.sulfur.dioxide'], norm_test_df_2f['citric.acid'], color='black', label='Test Data', marker='^')\n",
        "\n",
        "for index, row in norm_train_df_2f.iterrows():\n",
        "    plt.annotate(index, (row['total.sulfur.dioxide']-0.003, row['citric.acid']+0.01), size=8)\n",
        "\n",
        "for index, row in norm_test_df_2f.iterrows():\n",
        "    plt.annotate(row['ID'], (row['total.sulfur.dioxide'], row['citric.acid']+0.01))\n",
        "\n",
        "plt.xlabel('total.sulfur.dioxide')\n",
        "plt.ylabel('citric.acid')\n",
        "plt.title('Scatter Plot of total.sulfur.dioxide vs citric.acid')\n",
        "plt.legend()\n",
        "plt.show()\n"
      ]
    },
    {
      "cell_type": "code",
      "execution_count": null,
      "metadata": {
        "id": "j7VpizkwWOHd"
      },
      "outputs": [],
      "source": [
        "def drop_id_column(df):\n",
        "  df.drop('ID', axis = 1, inplace = True)"
      ]
    },
    {
      "cell_type": "markdown",
      "metadata": {
        "id": "CN0mb7raOYpL"
      },
      "source": [
        "## Criando função para separar vetor de atributos (X) e alvos (y):\n",
        "---"
      ]
    },
    {
      "cell_type": "code",
      "execution_count": null,
      "metadata": {
        "id": "le3T5sg_g3gz"
      },
      "outputs": [],
      "source": [
        "def split_and_train(df, k):\n",
        "  X = df.copy()\n",
        "  y = X.pop('class')\n",
        "  drop_id_column(X)\n",
        "  knn = KNeighborsClassifier(n_neighbors = k)\n",
        "  knn.fit(X, y)\n",
        "  return knn"
      ]
    },
    {
      "cell_type": "code",
      "execution_count": null,
      "metadata": {
        "id": "IaedOf13qMBP"
      },
      "outputs": [],
      "source": [
        "def create_plots_and_neighbors(train_df, test_df, k_list:list):\n",
        "    X_test = test_df.copy()\n",
        "    drop_id_column(X_test)\n",
        "    y_test = X_test.pop('class')\n",
        "\n",
        "    for k in k_list:\n",
        "        knn = split_and_train(train_df, k)\n",
        "\n",
        "        print(f\"Plot para K = {k}\")\n",
        "        plt.figure(figsize=(20, 11))\n",
        "\n",
        "        # -------\n",
        "\n",
        "        # Plotar os dados de treinamento\n",
        "        sns.scatterplot(x='total.sulfur.dioxide', y='citric.acid', hue='class', data=train_df)\n",
        "\n",
        "        # Plotar os dados de teste\n",
        "        plt.scatter(test_df['total.sulfur.dioxide'], test_df['citric.acid'], color='black', label='Test Data', marker='^')\n",
        "\n",
        "        # Anotar os IDs dos dados de teste\n",
        "        for index, row in test_df.iterrows():\n",
        "            plt.annotate(row['ID'], (row['total.sulfur.dioxide'], row['citric.acid'] + 0.01))\n",
        "\n",
        "        # Anotar os índices dos dados de treinamento\n",
        "        for index, row in train_df.iterrows():\n",
        "            plt.annotate(row['ID'], (row['total.sulfur.dioxide'] - 0.003, row['citric.acid'] + 0.01), size=8)\n",
        "\n",
        "        # Adicionar linhas pontilhadas para os vizinhos mais próximos\n",
        "        for test_index, test_row in test_df.iterrows():\n",
        "            # Encontrar os vizinhos mais próximos para o ponto de teste atual\n",
        "            distances, indices = knn.kneighbors(test_df.loc[[test_index], ['total.sulfur.dioxide', 'citric.acid']])\n",
        "\n",
        "            # Iterar sobre os vizinhos e desenhar linhas pontilhadas\n",
        "            for neighbor_index in indices[0]:\n",
        "                neighbor_row = train_df.iloc[neighbor_index]\n",
        "                plt.plot(\n",
        "                    [test_row['total.sulfur.dioxide'], neighbor_row['total.sulfur.dioxide']],\n",
        "                    [test_row['citric.acid'], neighbor_row['citric.acid']],\n",
        "                    'r--',\n",
        "                    linewidth=0.5,\n",
        "                )\n",
        "\n",
        "        plt.xlabel('total.sulfur.dioxide')\n",
        "        plt.ylabel('citric.acid')\n",
        "        plt.title('Scatter Plot of total.sulfur.dioxide vs citric.acid with KNN Neighbors')\n",
        "        plt.legend()\n",
        "        plt.show()\n",
        "        print(end='\\n\\n\\n\\n')"
      ]
    },
    {
      "cell_type": "markdown",
      "metadata": {
        "id": "WvidkshxQD_W"
      },
      "source": [
        "## Dados Originais 2 Features:\n",
        "---"
      ]
    },
    {
      "cell_type": "code",
      "execution_count": null,
      "metadata": {
        "id": "5FShD1QkPU75"
      },
      "outputs": [],
      "source": [
        "X_test = orig_test_df_2f.copy()\n",
        "drop_id_column(X_test)\n",
        "y_test = X_test.pop('class')\n",
        "\n",
        "# Loop para iterar sobre 4 valores de 'k' -> (1, 3, 5, 7)\n",
        "for k in range(1, 8, 2):\n",
        "    knn = split_and_train(orig_train_df_2f, k)\n",
        "    y_pred = knn.predict(X_test)\n",
        "\n",
        "    cm = confusion_matrix(y_test, y_pred)\n",
        "\n",
        "    print(f\"Restultados para k = {k}\")\n",
        "    plt.figure(figsize=(8, 6))\n",
        "    sns.heatmap(cm, annot=True, fmt='d', cmap='Blues')\n",
        "    plt.xlabel('Previsões')\n",
        "    plt.ylabel('Valores Reais')\n",
        "    plt.title('Matriz de Confusão KNN')\n",
        "    plt.show()\n",
        "\n",
        "    print(end=\"\\n\\n\\n\")\n",
        "\n",
        "    print(classification_report(y_test, y_pred))\n",
        "\n",
        "    print(\"----\" * 20, end=\"\\n\\n\\n\")\n"
      ]
    },
    {
      "cell_type": "markdown",
      "metadata": {
        "id": "xGvsWboxQOwN"
      },
      "source": [
        "## Dados Normalizados 2 Features:\n",
        "---"
      ]
    },
    {
      "cell_type": "code",
      "execution_count": null,
      "metadata": {
        "id": "9PZf5DhjPoof"
      },
      "outputs": [],
      "source": [
        "X_test = norm_test_df_2f.copy()\n",
        "drop_id_column(X_test)\n",
        "y_test = X_test.pop('class')\n",
        "\n",
        "for k in range(1, 8, 2):\n",
        "    knn = split_and_train(norm_train_df_2f, k)\n",
        "    y_pred = knn.predict(X_test)\n",
        "\n",
        "    cm = confusion_matrix(y_test, y_pred)\n",
        "\n",
        "    print(f\"Restultados para k = {k}\")\n",
        "    plt.figure(figsize=(8, 6))\n",
        "    sns.heatmap(cm, annot=True, fmt='d', cmap='Blues')\n",
        "    plt.xlabel('Previsões')\n",
        "    plt.ylabel('Valores Reais')\n",
        "    plt.title('Matriz de Confusão KNN')\n",
        "    plt.show()\n",
        "\n",
        "    print(end=\"\\n\\n\\n\")\n",
        "\n",
        "    print(classification_report(y_test, y_pred))\n",
        "\n",
        "    print(\"----\" * 20, end=\"\\n\\n\\n\")\n"
      ]
    },
    {
      "cell_type": "markdown",
      "metadata": {
        "id": "aATYZZ5nRMlb"
      },
      "source": [
        "## Dados Originais 11 Features:\n",
        "---"
      ]
    },
    {
      "cell_type": "code",
      "execution_count": null,
      "metadata": {
        "id": "TpJF0DNNQhD-"
      },
      "outputs": [],
      "source": [
        "X_test = orig_test_df_11f.copy()\n",
        "drop_id_column(X_test)\n",
        "y_test = X_test.pop('class')\n",
        "\n",
        "for k in range(1, 8, 2):\n",
        "    knn = split_and_train(orig_train_df_11f, k)\n",
        "    y_pred = knn.predict(X_test)\n",
        "\n",
        "    cm = confusion_matrix(y_test, y_pred)\n",
        "\n",
        "    print(f\"Restultados para k = {k}\")\n",
        "    plt.figure(figsize=(8, 6))\n",
        "    sns.heatmap(cm, annot=True, fmt='d', cmap='Blues')\n",
        "    plt.xlabel('Previsões')\n",
        "    plt.ylabel('Valores Reais')\n",
        "    plt.title('Matriz de Confusão KNN')\n",
        "    plt.show()\n",
        "\n",
        "    print(end=\"\\n\\n\\n\")\n",
        "\n",
        "    print(classification_report(y_test, y_pred))\n",
        "\n",
        "    print(\"----\" * 20, end=\"\\n\\n\\n\")"
      ]
    },
    {
      "cell_type": "markdown",
      "metadata": {
        "id": "3EIveriTRarG"
      },
      "source": [
        "## Dados Normalizados 11 Features:\n",
        "---"
      ]
    },
    {
      "cell_type": "code",
      "execution_count": null,
      "metadata": {
        "id": "udE59acSRTui"
      },
      "outputs": [],
      "source": [
        "X_test = norm_test_df_11f.copy()\n",
        "drop_id_column(X_test)\n",
        "y_test = X_test.pop('class')\n",
        "\n",
        "for k in range(1, 8, 2):\n",
        "    knn = split_and_train(norm_train_df_11f, k)\n",
        "    y_pred = knn.predict(X_test)\n",
        "\n",
        "    cm = confusion_matrix(y_test, y_pred)\n",
        "\n",
        "    print(f\"Restultados para k = {k}\")\n",
        "    plt.figure(figsize=(8, 6))\n",
        "    sns.heatmap(cm, annot=True, fmt='d', cmap='Blues')\n",
        "    plt.xlabel('Previsões')\n",
        "    plt.ylabel('Valores Reais')\n",
        "    plt.title('Matriz de Confusão KNN')\n",
        "    plt.show()\n",
        "\n",
        "    print(end=\"\\n\\n\\n\")\n",
        "\n",
        "    print(classification_report(y_test, y_pred))\n",
        "\n",
        "    print(\"----\" * 20, end=\"\\n\\n\\n\")"
      ]
    },
    {
      "cell_type": "markdown",
      "metadata": {
        "id": "R_vlI-0tt_2W"
      },
      "source": [
        "# Secção para responder as perguntas do questionário:\n",
        "---\n"
      ]
    },
    {
      "cell_type": "markdown",
      "metadata": {
        "id": "ROCMyiTm0kZF"
      },
      "source": [
        "## A)\n",
        "Treine modelos usando o algoritmo KNN para o conjunto de dados Dados_Originais_2Features (não normalizados), variando o valor de k (número de vizinhos mais próximos) entre 1, 3, 5, 7. Para cada modelo treinado, avalie seu desempenho nos dados de teste, reportando a acurácia. Repita o mesmo procedimento com os dados Dados_Normalizados_2Features. Compare as acurácias obtidas nos modelos treinados a partir destes dois conjuntos de dados, analisando se a normalização impactou de alguma forma os resultados. Observe se a mudança no valor de k causou algum impacto no desempenho destes modelos (com e sem normalização dos dados) e, em caso positivo, se as variações no desempenho são as mesmas entre os modelos treinados com mesmo k, mas com dados distintos (dados originais e dados normalizados)"
      ]
    },
    {
      "cell_type": "code",
      "execution_count": null,
      "metadata": {
        "id": "igvZvrN9hV6C"
      },
      "outputs": [],
      "source": [
        "orig_knn_dict = {f\"knn_{k}\": split_and_train(orig_train_df_2f, k) for k in range(1, 8, 2)}\n",
        "norm_knn_dict = {f\"knn_{k}\": split_and_train(norm_train_df_2f, k) for k in range(1, 8, 2)}"
      ]
    },
    {
      "cell_type": "code",
      "execution_count": null,
      "metadata": {
        "id": "mDK10-snvCdl"
      },
      "outputs": [],
      "source": [
        "orig_acc_list = [orig_knn_dict[f\"knn_{k}\"].score(orig_test_df_2f.drop(['ID', 'class'], axis = 1), orig_test_df_2f['class']) for k in range(1, 8, 2)]\n",
        "norm_acc_list = [norm_knn_dict[f\"knn_{k}\"].score(norm_test_df_2f.drop(['ID', 'class'], axis = 1), norm_test_df_2f['class']) for k in range(1, 8, 2)]"
      ]
    },
    {
      "cell_type": "code",
      "execution_count": null,
      "metadata": {
        "id": "A7CnbyZkzGYQ"
      },
      "outputs": [],
      "source": [
        "# Dados fornecidos\n",
        "k_neighbors = [1, 3, 5, 7]\n",
        "\n",
        "# Criar a figura\n",
        "plt.figure(figsize=(10, 6))\n",
        "\n",
        "# Criar o gráfico de linha\n",
        "plt.plot(k_neighbors, orig_acc_list, marker='o', label='Dados originais')  # 'o' adiciona marcadores aos pontos\n",
        "plt.plot(k_neighbors, norm_acc_list, marker='^', label='Dados normalizados')  # 'o' adiciona marcadores aos pontos\n",
        "\n",
        "# Adicionar rótulos e título\n",
        "plt.xlabel('Número de K Vizinhos Mais Próximos')\n",
        "plt.ylabel('Acurácia do Modelo')\n",
        "plt.title('Acurácia do Modelo vs. Número de Vizinhos (K)')\n",
        "plt.legend()\n",
        "\n",
        "# Personalizar os ticks do eixo x (opcional, mas recomendado)\n",
        "plt.xticks(k_neighbors)  # Garante que os ticks do eixo x sejam apenas os valores de k\n",
        "\n",
        "# Exibir o gráfico\n",
        "plt.grid(True)  # Adiciona grade para melhor visualização (opcional)\n",
        "plt.show()"
      ]
    },
    {
      "cell_type": "markdown",
      "metadata": {
        "id": "ZlhRmeq00bnO"
      },
      "source": [
        "## B)\n",
        "Considerando o modelo treinado com k=5 utilizando dados não normalizados e com 2 atributos, verifique quem são os k vizinhos mais próximos da instância de teste N1 (liste os respectivos IDs). Verifique como estes vizinhos estão dispostos no espaço de entrada em relação à instância de teste N1 e aos eixos x e y. Após tirar suas conclusões, analise se as mesmas se aplicam às instâncias de teste N2, N3 e N4."
      ]
    },
    {
      "cell_type": "code",
      "execution_count": null,
      "metadata": {
        "id": "6oECRDU-zkQ2"
      },
      "outputs": [],
      "source": [
        "# prompt: Create a plot from norm_train_df_2f that show features 'total.sulfur.dioxide' and 'citric.acid' in axis, then color them based on 'class', then insert the data points from norm_test_df_2f and make them black dots, with their respective ID above\n",
        "\n",
        "import matplotlib.pyplot as plt\n",
        "plt.figure(figsize=(20, 11))\n",
        "sns.scatterplot(x='total.sulfur.dioxide', y='citric.acid', hue='class', data=orig_train_df_2f)\n",
        "plt.scatter(orig_test_df_2f['total.sulfur.dioxide'], orig_test_df_2f['citric.acid'], color='black', label='Test Data', marker='^')\n",
        "\n",
        "for index, row in orig_train_df_2f.iterrows():\n",
        "    plt.annotate(index, (row['total.sulfur.dioxide']-0.003, row['citric.acid']+0.01), size=8)\n",
        "\n",
        "for index, row in orig_test_df_2f.iterrows():\n",
        "    plt.annotate(row['ID'], (row['total.sulfur.dioxide'], row['citric.acid']+0.01))\n",
        "\n",
        "plt.xlabel('total.sulfur.dioxide')\n",
        "plt.ylabel('citric.acid')\n",
        "plt.title('Scatter Plot of total.sulfur.dioxide vs citric.acid')\n",
        "plt.legend()\n",
        "plt.show()\n"
      ]
    },
    {
      "cell_type": "code",
      "execution_count": null,
      "metadata": {
        "id": "ALZgKZe71IqP"
      },
      "outputs": [],
      "source": [
        "create_plots_and_neighbors(orig_train_df_2f, orig_test_df_2f, k_list=[5])"
      ]
    },
    {
      "cell_type": "code",
      "execution_count": null,
      "metadata": {
        "id": "oM-N6Pd71Yln"
      },
      "outputs": [],
      "source": [
        "## Vizinhos mais próximos de N1:\n",
        "\n",
        "indices = orig_knn_dict['knn_5'].kneighbors(orig_test_df_2f.iloc[[0], :].drop(['ID', 'class'], axis = 1))[1][0].tolist()\n",
        "\n",
        "orig_train_df_2f.iloc[indices].sort_values(by = 'ID')"
      ]
    },
    {
      "cell_type": "markdown",
      "metadata": {
        "id": "j3DqOgGg3SwI"
      },
      "source": [
        "## C)\n",
        "Treine dois modelos usando o algoritmo KNN com k=5 para os datasets Dados_Normalizados_2Features e Dados_Normalizados_11Features. Aplique os modelos treinados nos respectivos dados de teste, verificando os k-vizinhos mais próximos e a classe predita para a instância N4. Faça perturbações no valor do atributo “citric acid” para a instância N4, substituindo o valor original (1.0) por 0.3 e posteriormente por 0.85 (ou seja, gere duas novas instâncias sintéticas com esta alteração). Repita a classificação destas instâncias sintéticas com os dois modelos (isto é, modelo baseado em 2 atributos e em 11 atributos). Compare os resultados, analisando como a alteração de um atributo impactou o cálculo das distâncias euclidianas e a seleção dos k-vizinhos mais próximos em cada caso."
      ]
    },
    {
      "cell_type": "code",
      "execution_count": null,
      "metadata": {
        "id": "9aTwa-Ql49Ws"
      },
      "outputs": [],
      "source": [
        "print(\"Valor de teste 'N4' com 2 features:\")\n",
        "display(norm_test_df_2f.iloc[[3], :])\n",
        "\n",
        "print(end='\\n\\n\\n')\n",
        "\n",
        "print(\"Valor de teste 'N4' com 11 features:\")\n",
        "display(norm_test_df_11f.iloc[[3], :])"
      ]
    },
    {
      "cell_type": "code",
      "execution_count": null,
      "metadata": {
        "id": "v5pMSPqq2EnH"
      },
      "outputs": [],
      "source": [
        "# Criando os modelos KNN para o dataset com 2 e 11 features, ambos normalizados.\n",
        "norm_knn_5_2f = split_and_train(norm_train_df_2f, 5)\n",
        "norm_knn_5_11f = split_and_train(norm_train_df_11f, 5)"
      ]
    },
    {
      "cell_type": "code",
      "execution_count": null,
      "metadata": {
        "id": "-qCGrza437KW"
      },
      "outputs": [],
      "source": [
        "print(f\"Classe predita para o valor de teste 'N4' com 2 features\")\n",
        "print(norm_knn_5_2f.predict(norm_test_df_2f.iloc[[3], :].drop(['ID', 'class'], axis = 1)), end='\\n\\n')\n",
        "\n",
        "print(f\"Classe predita para o valor de teste 'N4' com 11 features\")\n",
        "print(norm_knn_5_11f.predict(norm_test_df_11f.iloc[[3], :].drop(['ID', 'class'], axis = 1)))"
      ]
    },
    {
      "cell_type": "code",
      "execution_count": null,
      "metadata": {
        "id": "Zy_ekSqz4S8t"
      },
      "outputs": [],
      "source": [
        "# Criando novas instâncias sintéticas:\n",
        "norm_2f_original_n4_instance = norm_test_df_2f.iloc[[3], :].drop(['ID', 'class'], axis = 1)\n",
        "norm_2f_perturbed_n4_instance_1 = norm_2f_original_n4_instance.copy()\n",
        "norm_2f_perturbed_n4_instance_1['citric.acid'] = 0.3\n",
        "norm_2f_perturbed_n4_instance_2 = norm_2f_original_n4_instance.copy()\n",
        "norm_2f_perturbed_n4_instance_2['citric.acid'] = 0.85\n",
        "\n",
        "norm_11f_original_n4_instance = norm_test_df_11f.iloc[[3], :].drop(['ID', 'class'], axis = 1)\n",
        "norm_11f_perturbed_n4_instance_1 = norm_11f_original_n4_instance.copy()\n",
        "norm_11f_perturbed_n4_instance_1['citric.acid'] = 0.3\n",
        "norm_11f_perturbed_n4_instance_2 = norm_11f_original_n4_instance.copy()\n",
        "norm_11f_perturbed_n4_instance_2['citric.acid'] = 0.85"
      ]
    },
    {
      "cell_type": "code",
      "execution_count": null,
      "metadata": {
        "id": "ESHLgziK6tnU"
      },
      "outputs": [],
      "source": [
        "print(\"Classe predita para o modelo com 2 atributos:\", end=\"\\n\\n\")\n",
        "print(f\"N4 Normalizado (citric.acid = 1.0):\\t\\t{norm_knn_5_2f.predict(norm_2f_original_n4_instance)[0]}\")\n",
        "print(f\"N4 Perturbação 1 (citric.acid = 0.3):\\t\\t{norm_knn_5_2f.predict(norm_2f_perturbed_n4_instance_1)[0]}\")\n",
        "print(f\"N4 Perturbação 2 (citric.acid = 0.85):\\t\\t{norm_knn_5_2f.predict(norm_2f_perturbed_n4_instance_2)[0]}\")\n",
        "\n",
        "print(end=\"\\n\\n\")\n",
        "\n",
        "print(\"Classe predita para o modelo com 11 atributos:\", end=\"\\n\\n\")\n",
        "print(f\"N4 Normalizado (citric.acid = 1.0):\\t\\t{norm_knn_5_11f.predict(norm_11f_original_n4_instance)[0]}\")\n",
        "print(f\"N4 Perturbação 1 (citric.acid = 0.3):\\t\\t{norm_knn_5_11f.predict(norm_11f_perturbed_n4_instance_1)[0]}\")\n",
        "print(f\"N4 Perturbação 2 (citric.acid = 0.85):\\t\\t{norm_knn_5_11f.predict(norm_11f_perturbed_n4_instance_2)[0]}\")"
      ]
    },
    {
      "cell_type": "code",
      "execution_count": null,
      "metadata": {
        "id": "biOZO_nl7rb_"
      },
      "outputs": [],
      "source": [
        "## Vizinhos mais próximos de N4:\n",
        "print(\"Vizinhos mais próximos para o modelo com 2 atributos:\", end=\"\\n\\n\")\n",
        "print(f\"N4 Original (citric.acid = 1.0):\\t\\t{norm_train_df_2f.iloc[norm_knn_5_2f.kneighbors(norm_2f_original_n4_instance)[1][0].tolist()].sort_values(by = 'ID')['ID'].to_list()}\")\n",
        "print(f\"N4 Perturbação 1 (citric.acid = 0.3):\\t\\t{norm_train_df_2f.iloc[norm_knn_5_2f.kneighbors(norm_2f_perturbed_n4_instance_1)[1][0].tolist()].sort_values(by = 'ID')['ID'].to_list()}\")\n",
        "print(f\"N4 Perturbação 2 (citric.acid = 0.85):\\t\\t{norm_train_df_2f.iloc[norm_knn_5_2f.kneighbors(norm_2f_perturbed_n4_instance_2)[1][0].tolist()].sort_values(by = 'ID')['ID'].to_list()}\")\n",
        "\n",
        "print(end=\"\\n\\n\")\n",
        "\n",
        "print(\"Vizinhos mais próximos para o modelo com 11 atributos:\", end=\"\\n\\n\")\n",
        "print(f\"N4 Original (citric.acid = 1.0):\\t\\t{norm_train_df_11f.iloc[norm_knn_5_11f.kneighbors(norm_11f_original_n4_instance)[1][0].tolist()].sort_values(by = 'ID')['ID'].to_list()}\")\n",
        "print(f\"N4 Perturbação 1 (citric.acid = 0.3):\\t\\t{norm_train_df_11f.iloc[norm_knn_5_11f.kneighbors(norm_11f_perturbed_n4_instance_1)[1][0].tolist()].sort_values(by = 'ID')['ID'].to_list()}\")\n",
        "print(f\"N4 Perturbação 2 (citric.acid = 0.85):\\t\\t{norm_train_df_11f.iloc[norm_knn_5_11f.kneighbors(norm_11f_perturbed_n4_instance_2)[1][0].tolist()].sort_values(by = 'ID')['ID'].to_list()}\")"
      ]
    }
  ],
  "metadata": {
    "colab": {
      "provenance": []
    },
    "kernelspec": {
      "display_name": "Python 3",
      "name": "python3"
    },
    "language_info": {
      "name": "python"
    }
  },
  "nbformat": 4,
  "nbformat_minor": 0
}
