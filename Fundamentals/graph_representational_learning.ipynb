{
 "cells": [
  {
   "cell_type": "code",
   "execution_count": null,
   "id": "da4b0efd",
   "metadata": {},
   "outputs": [],
   "source": [
    "# Create the Florence families marriage network (Padgett & Ansell, 1993)\n",
    "# We'll try to load the built-in NetworkX dataset; if unavailable, fall back to a hand-coded edge list.\n",
    "import matplotlib.pyplot as plt\n",
    "import networkx as nx\n",
    "\n",
    "# 1) Build the graph\n",
    "try:\n",
    "    from networkx.generators.small import florentine_families_graph\n",
    "    G = florentine_families_graph()\n",
    "except Exception:\n",
    "    G = nx.Graph()\n",
    "    edges = [\n",
    "        (\"Acciaiuoli\",\"Medici\"),\n",
    "        (\"Castellani\",\"Peruzzi\"),\n",
    "        (\"Castellani\",\"Strozzi\"),\n",
    "        (\"Castellani\",\"Barbadori\"),\n",
    "        (\"Medici\",\"Barbadori\"),\n",
    "        (\"Medici\",\"Ridolfi\"),\n",
    "        (\"Medici\",\"Tornabuoni\"),\n",
    "        (\"Medici\",\"Albizzi\"),\n",
    "        (\"Medici\",\"Salviati\"),\n",
    "        (\"Pazzi\",\"Salviati\"),\n",
    "        (\"Bischeri\",\"Guadagni\"),\n",
    "        (\"Guadagni\",\"Albizzi\"),\n",
    "        (\"Guadagni\",\"Tornabuoni\"),\n",
    "        (\"Guadagni\",\"Lamberteschi\"),\n",
    "        (\"Peruzzi\",\"Strozzi\"),\n",
    "        (\"Ridolfi\",\"Strozzi\"),\n",
    "        (\"Bischeri\",\"Peruzzi\"),\n",
    "        (\"Ginori\",\"Albizzi\"),\n",
    "        (\"Albizzi\",\"Salviati\"),\n",
    "    ]\n",
    "    G.add_edges_from(edges)"
   ]
  }
 ],
 "metadata": {
  "language_info": {
   "name": "python"
  }
 },
 "nbformat": 4,
 "nbformat_minor": 5
}
