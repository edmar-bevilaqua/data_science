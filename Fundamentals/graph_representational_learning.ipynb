{
 "cells": [
  {
   "cell_type": "markdown",
   "id": "e4f97973",
   "metadata": {},
   "source": [
    "# Background and Traditional Approaches\n",
    "\n",
    "---\n",
    "\n",
    "Before we introduce the concepts of graph representation learning and deep learning on graphs, it is necessary to give some methodological background and context.\n",
    "\n",
    "What kinds of methods were used for machine learning on graphs prior to the advent of modern deep learning approaches?\n",
    "\n",
    "\n",
    "## Graph Statistics and Kernel Methods\n",
    "\n",
    "Traditional approaches to classification using graph data follow the standard machine learning paradigm that was popular prior to the advent of deep learning.\n",
    "\n",
    "We begin by extracting some statistics or features—based on heuristic functions or domain knowledge and then use these features as input to a standard machine learning classifier (e.g., logistic regression)."
   ]
  },
  {
   "cell_type": "code",
   "execution_count": null,
   "id": "da4b0efd",
   "metadata": {},
   "outputs": [],
   "source": [
    "# Create the Florence families marriage network (Padgett & Ansell, 1993)\n",
    "# We'll try to load the built-in NetworkX dataset; if unavailable, fall back to a hand-coded edge list.\n",
    "import matplotlib.pyplot as plt\n",
    "import networkx as nx\n",
    "\n",
    "# 1) Build the graph\n",
    "try:\n",
    "    from networkx.generators.small import florentine_families_graph\n",
    "    G = florentine_families_graph()\n",
    "except Exception:\n",
    "    G = nx.Graph()\n",
    "    edges = [\n",
    "        (\"Acciaiuoli\",\"Medici\"),\n",
    "        (\"Castellani\",\"Peruzzi\"),\n",
    "        (\"Castellani\",\"Strozzi\"),\n",
    "        (\"Castellani\",\"Barbadori\"),\n",
    "        (\"Medici\",\"Barbadori\"),\n",
    "        (\"Medici\",\"Ridolfi\"),\n",
    "        (\"Medici\",\"Tornabuoni\"),\n",
    "        (\"Medici\",\"Albizzi\"),\n",
    "        (\"Medici\",\"Salviati\"),\n",
    "        (\"Pazzi\",\"Salviati\"),\n",
    "        (\"Bischeri\",\"Guadagni\"),\n",
    "        (\"Guadagni\",\"Albizzi\"),\n",
    "        (\"Guadagni\",\"Tornabuoni\"),\n",
    "        (\"Guadagni\",\"Lamberteschi\"),\n",
    "        (\"Peruzzi\",\"Strozzi\"),\n",
    "        (\"Ridolfi\",\"Strozzi\"),\n",
    "        (\"Bischeri\",\"Peruzzi\"),\n",
    "        (\"Ginori\",\"Albizzi\"),\n",
    "        (\"Albizzi\",\"Salviati\"),\n",
    "    ]\n",
    "    G.add_edges_from(edges)"
   ]
  }
 ],
 "metadata": {
  "language_info": {
   "name": "python"
  }
 },
 "nbformat": 4,
 "nbformat_minor": 5
}
